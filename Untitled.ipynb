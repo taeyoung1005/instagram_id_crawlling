{
 "cells": [
  {
   "cell_type": "code",
   "execution_count": 1,
   "id": "3885af25",
   "metadata": {
    "ExecuteTime": {
     "end_time": "2022-09-05T09:37:29.119126Z",
     "start_time": "2022-09-05T09:37:28.872888Z"
    }
   },
   "outputs": [],
   "source": [
    "from selenium import webdriver\n",
    "from selenium.webdriver.common.by import By\n",
    "from selenium.webdriver.common.keys import Keys\n",
    "from time import sleep\n",
    "import chromedriver_autoinstaller\n",
    "import random\n",
    "import os\n",
    "import sys"
   ]
  },
  {
   "cell_type": "code",
   "execution_count": 2,
   "id": "dd85bc58",
   "metadata": {
    "ExecuteTime": {
     "end_time": "2022-09-05T09:37:29.864310Z",
     "start_time": "2022-09-05T09:37:29.823899Z"
    }
   },
   "outputs": [],
   "source": [
    "chrome_ver = chromedriver_autoinstaller.get_chrome_version().split('.')[0]\n",
    "driver_path = f'./{chrome_ver}/chromedriver.exe'\n",
    "if os.path.exists(driver_path) != True:\n",
    "    print(\"크롬버전에 맞는 크롬드라이버 설치중...\")\n",
    "    chromedriver_autoinstaller.install(True)\n",
    "    print(\"크롬드라이버 설치완료\")"
   ]
  },
  {
   "cell_type": "code",
   "execution_count": 29,
   "id": "21979c75",
   "metadata": {
    "ExecuteTime": {
     "end_time": "2022-09-05T09:42:10.043094Z",
     "start_time": "2022-09-05T09:42:05.416918Z"
    }
   },
   "outputs": [
    {
     "name": "stderr",
     "output_type": "stream",
     "text": [
      "C:\\Users\\CJU\\AppData\\Local\\Temp\\ipykernel_17400\\3351591708.py:13: DeprecationWarning: executable_path has been deprecated, please pass in a Service object\n",
      "  driver = webdriver.Chrome(driver_path)\n"
     ]
    }
   ],
   "source": [
    "chrome_options = webdriver.ChromeOptions()\n",
    "chrome_options.add_argument('--headless')\n",
    "chrome_options.add_argument('--no-sandbox')\n",
    "chrome_options.add_argument('--privileged')\n",
    "chrome_options.add_argument('--incognito')\n",
    "chrome_options.add_argument('--disable-dev-shm-usage')\n",
    "chrome_options.add_argument('window-size=1920x1080')\n",
    "chrome_options.add_argument('disable-gpu')\n",
    "chrome_options.add_argument(\"user-agent=Mozilla/5.0 (Windows NT 10.0; WOW64) AppleWebKit/537.36 (KHTML, like Gecko) Chrome/103.0.5060.134 Safari/537.36\")\n",
    "chrome_options.add_argument('lang=ko_KR')\n",
    "chrome_options.add_experimental_option(\"excludeSwitches\",[\"enable-logging\"])\n",
    "\n",
    "driver = webdriver.Chrome(driver_path)\n",
    "\n",
    "url = 'https://www.instagram.com/'\n",
    "\n",
    "driver.get(url)\n",
    "sleep(2)"
   ]
  },
  {
   "cell_type": "code",
   "execution_count": 30,
   "id": "84f3886c",
   "metadata": {
    "ExecuteTime": {
     "end_time": "2022-09-05T09:42:12.573475Z",
     "start_time": "2022-09-05T09:42:10.233463Z"
    }
   },
   "outputs": [],
   "source": [
    "Id = \"bibo_eigh\"\n",
    "Pw = \"12345678qwertyui\"\n",
    "\n",
    "driver.find_element(By.XPATH, '//*[@id=\"loginForm\"]/div/div[1]/div/label/input').send_keys(Id)\n",
    "driver.find_element(By.XPATH, '//*[@id=\"loginForm\"]/div/div[2]/div/label/input').send_keys(Pw)\n",
    "driver.find_element(By.XPATH, '//*[@id=\"loginForm\"]/div/div[3]').click()\n",
    "sleep(2)"
   ]
  },
  {
   "cell_type": "code",
   "execution_count": 31,
   "id": "51726ff0",
   "metadata": {
    "ExecuteTime": {
     "end_time": "2022-09-05T09:42:14.523733Z",
     "start_time": "2022-09-05T09:42:12.763452Z"
    }
   },
   "outputs": [
    {
     "name": "stdout",
     "output_type": "stream",
     "text": [
      "로그인 성공\n"
     ]
    }
   ],
   "source": [
    "while True:\n",
    "    if driver.current_url != url:\n",
    "        print(\"로그인 성공\")\n",
    "        break"
   ]
  },
  {
   "cell_type": "code",
   "execution_count": 32,
   "id": "7088fbd2",
   "metadata": {
    "ExecuteTime": {
     "end_time": "2022-09-05T09:42:18.480415Z",
     "start_time": "2022-09-05T09:42:18.465358Z"
    }
   },
   "outputs": [],
   "source": [
    "def num_random():\n",
    "    random_num = random.uniform(2, 5)\n",
    "    return round(random_num, 2)"
   ]
  },
  {
   "cell_type": "code",
   "execution_count": 33,
   "id": "c64a86d4",
   "metadata": {
    "ExecuteTime": {
     "end_time": "2022-09-05T09:42:18.883275Z",
     "start_time": "2022-09-05T09:42:18.864707Z"
    }
   },
   "outputs": [],
   "source": [
    "def save(level, step):\n",
    "    file = open(f'./{search_id}_{step}_following.txt', 'a', encoding='utf-8')\n",
    "    for i, j in level:\n",
    "        file.write(f\"{i}, {j}명\\n\")\n",
    "    file.close()"
   ]
  },
  {
   "cell_type": "code",
   "execution_count": 50,
   "id": "c1dc7fc7",
   "metadata": {
    "ExecuteTime": {
     "end_time": "2022-09-05T09:54:22.060210Z",
     "start_time": "2022-09-05T09:54:22.041166Z"
    },
    "scrolled": false
   },
   "outputs": [],
   "source": [
    "def following_list_1(level0):\n",
    "    people_list = []\n",
    "    for i in level0:\n",
    "        driver.execute_script(\"arguments[0].scrollIntoView();\", i)\n",
    "        try:\n",
    "            if driver.find_element(By.CLASS_NAME, '_ab8w._ab94._ab97._ab9f._ab9m._ab9p._abc0._abcm').is_displayed() == True:\n",
    "                print(\"팔로잉 로딩중\")\n",
    "                sleep(3)\n",
    "        except:\n",
    "            pass\n",
    "        following_id = i.find_element(By.CLASS_NAME, '_aacl._aaco._aacw._adda._aacx._aad7._aade').text.strip(\"인증됨\\n\")\n",
    "        div = driver.find_element(By.XPATH, '/html/body/div[1]/div/div/div/div[2]/div/div/div[1]/div/div[2]/div/div/div/div/div[2]/div/div/div[3]/div[1]/div')\n",
    "        people = div.find_elements(By.CLASS_NAME, '_ab8w._ab94._ab97._ab9f._ab9k._ab9p._ab9-._aba8._abcm')\n",
    "        for j in people[len(level0):]:\n",
    "            if j not in level0:\n",
    "                level0.append(j)\n",
    "            \n",
    "        i_href = i.find_element(By.TAG_NAME, 'a').get_attribute('href')\n",
    "        driver.execute_script(f'window.open(\"{i_href}\");')\n",
    "        driver.switch_to.window(driver.window_handles[1])\n",
    "        sleep(3)\n",
    "        num = driver.find_elements(By.CLASS_NAME, '_ac2a')\n",
    "        following_num = num[2].text\n",
    "        driver.close()\n",
    "        driver.switch_to.window(driver.window_handles[0])\n",
    "        sleep(1)\n",
    "        people_list.append((following_id, following_num))\n",
    "    return tuple(set(tuple(people_list)))"
   ]
  },
  {
   "cell_type": "code",
   "execution_count": 51,
   "id": "ec75ee59",
   "metadata": {
    "ExecuteTime": {
     "end_time": "2022-09-05T09:54:22.869417Z",
     "start_time": "2022-09-05T09:54:22.849463Z"
    }
   },
   "outputs": [],
   "source": [
    "def following_list_2(level1):\n",
    "    people_list = ()\n",
    "    for i in level1:\n",
    "        following_id, following_num = i\n",
    "        try:\n",
    "            driver.get(f'{url}{following_id}/following/')\n",
    "            sleep(4)\n",
    "            div = driver.find_element(By.XPATH, '/html/body/div[1]/div/div/div/div[2]/div/div/div[1]/div/div[2]/div/div/div/div/div[2]/div/div/div[3]/div[1]/div')\n",
    "            people = div.find_elements(By.CLASS_NAME, '_ab8w._ab94._ab97._ab9f._ab9k._ab9p._ab9-._aba8._abcm')\n",
    "            people_list += following_list_1(people)\n",
    "        except:\n",
    "            if len(driver.window_handles) > 1:\n",
    "                driver.switch_to.window(driver.window_handles[1])\n",
    "                driver.close()\n",
    "                driver.switch_to.window(driver.window_handles[0])\n",
    "            pass\n",
    "        sleep(num_random())\n",
    "    return tuple(set(people_list))"
   ]
  },
  {
   "cell_type": "code",
   "execution_count": 52,
   "id": "b804fed0",
   "metadata": {
    "ExecuteTime": {
     "end_time": "2022-09-05T09:54:23.554720Z",
     "start_time": "2022-09-05T09:54:23.544709Z"
    }
   },
   "outputs": [],
   "source": [
    "def following_list_3(level2):\n",
    "    people_list = ()\n",
    "    for i in level2:\n",
    "        following_id, following_num = i\n",
    "        try:\n",
    "            driver.get(f'{url}{following_id}/following/')\n",
    "            sleep(4)\n",
    "            div = driver.find_element(By.XPATH, '/html/body/div[1]/div/div/div/div[2]/div/div/div[1]/div/div[2]/div/div/div/div/div[2]/div/div/div[3]/div[1]/div')\n",
    "            people = div.find_elements(By.CLASS_NAME, '_ab8w._ab94._ab97._ab9f._ab9k._ab9p._ab9-._aba8._abcm')\n",
    "            people_list += following_list_1(people)\n",
    "        except:\n",
    "            if len(driver.window_handles) > 1:\n",
    "                driver.switch_to.window(driver.window_handles[1])\n",
    "                driver.close()\n",
    "                driver.switch_to.window(driver.window_handles[0])\n",
    "            pass \n",
    "        sleep(num_random())\n",
    "    return tuple(set(people_list))"
   ]
  },
  {
   "cell_type": "code",
   "execution_count": 53,
   "id": "395ff498",
   "metadata": {
    "ExecuteTime": {
     "end_time": "2022-09-05T09:54:26.043866Z",
     "start_time": "2022-09-05T09:54:26.032893Z"
    }
   },
   "outputs": [],
   "source": [
    "def step1(level0):\n",
    "    level1 = following_list_1(level0)\n",
    "    save(level1, \"level1\")"
   ]
  },
  {
   "cell_type": "code",
   "execution_count": 54,
   "id": "d5e4f05e",
   "metadata": {
    "ExecuteTime": {
     "end_time": "2022-09-05T09:54:26.261602Z",
     "start_time": "2022-09-05T09:54:26.248110Z"
    }
   },
   "outputs": [],
   "source": [
    "def step2(level0):\n",
    "    level1 = following_list_1(level0)\n",
    "    print(level1)\n",
    "    save(level1, \"level1\")\n",
    "    level2 = following_list_2(level1)\n",
    "    print(level2)\n",
    "    save(level2, \"level2\")"
   ]
  },
  {
   "cell_type": "code",
   "execution_count": 55,
   "id": "fdee956e",
   "metadata": {
    "ExecuteTime": {
     "end_time": "2022-09-05T09:54:26.480396Z",
     "start_time": "2022-09-05T09:54:26.471420Z"
    }
   },
   "outputs": [],
   "source": [
    "def step3(level0):\n",
    "    level1 = following_list_1(level0)\n",
    "    level2 = following_list_2(level1)\n",
    "    level3 = following_list_3(level2)\n",
    "    save(level3, \"level3\")"
   ]
  },
  {
   "cell_type": "code",
   "execution_count": 56,
   "id": "6a254aae",
   "metadata": {
    "ExecuteTime": {
     "end_time": "2022-09-05T09:54:31.799136Z",
     "start_time": "2022-09-05T09:54:26.687744Z"
    }
   },
   "outputs": [],
   "source": [
    "search_id = \"bibo_eigh\"\n",
    "driver.get(f'{url}{search_id}/following/')\n",
    "sleep(4)\n",
    "div = driver.find_element(By.XPATH, '/html/body/div[1]/div/div/div/div[2]/div/div/div[1]/div/div[2]/div/div/div/div/div[2]/div/div/div[3]/div[1]/div')\n",
    "level0 = div.find_elements(By.CLASS_NAME, '_ab8w._ab94._ab97._ab9f._ab9k._ab9p._ab9-._aba8._abcm')"
   ]
  },
  {
   "cell_type": "code",
   "execution_count": 27,
   "id": "c0126242",
   "metadata": {
    "ExecuteTime": {
     "end_time": "2022-09-05T09:40:47.854022Z",
     "start_time": "2022-09-05T09:40:26.633034Z"
    }
   },
   "outputs": [
    {
     "name": "stdout",
     "output_type": "stream",
     "text": [
      "[('xu_wenwu_99', '7'), ('tae0__0p', '37'), ('__phytoncide', '1'), ('camlin473', '25'), ('lastaleaf', '97')]\n"
     ]
    }
   ],
   "source": [
    "step1(level0)"
   ]
  },
  {
   "cell_type": "code",
   "execution_count": 57,
   "id": "20723681",
   "metadata": {
    "ExecuteTime": {
     "end_time": "2022-09-05T10:07:18.958613Z",
     "start_time": "2022-09-05T09:54:36.753267Z"
    }
   },
   "outputs": [
    {
     "name": "stdout",
     "output_type": "stream",
     "text": [
      "(('tae0__0p', '37'), ('lastaleaf', '97'), ('camlin473', '25'), ('xu_wenwu_99', '7'), ('__phytoncide', '1'))\n",
      "(('y_xim9', '213'), ('s_ohye', '160'), ('zl.rxo', '317'), ('xu_wenwu_99', '7'), ('ring_the_bell_jewa', '201'), ('belgisam', '189'), ('yoo.seung.ho_0817', '2'), ('alexmarquez73', '357'), ('clean_0828', '112'), ('yerimiese', '0'), ('skuukzky', '277'), ('jhyeon__1119', '88'), ('jahyun_ee_', '522'), ('_imyour_joy', '18'), ('pronoe.a', '98'), ('taey0_0miida', '302'), ('ekdbs.k', '254'), ('h_jin309', '237'), ('bn_sj2013', '61'), ('seul._.36', '707'), ('eun2ang', '414'), ('tiffanyyoungofficial', '8'), ('kyeong__e', '3,967'), ('m.by__sana', '0'), ('nahcnow', '142'), ('roses_are_rosie', '0'), ('eunji_nstagram', '276'), ('soonswan13', '187'), ('zi_y00_n', '268'), ('jeonghwan0703', '55'), ('oneulhee', '445'), ('lalalalisa_m', '0'), ('si_euns2', '60'), ('sil._.9v', '336'), ('taeyeon_ss', '47'), ('uooh_wi', '216'), ('__oddl_', '1,009'), ('mingxxan_', '156'), ('_zyozyo', '0'), ('yu_xna', '331'), ('frangi_b', '429'), ('therock', '601'), ('gahui._.05', '311'), ('seoung__s2', '406'), ('nayeonyny', '0'), ('miing.9', '364'), ('an_sangun0_0', '156'), ('kim_dh0106', '116'), ('sooyaaa__', '0'), ('yamahamotogp', '72'), ('__hanxni', '268'), ('tae0__0p', '37'), ('mint_ziso', '162'), ('jinyluvv', '691'), ('aramlog', '374'), ('dlwlrma', '111'), ('sughyen', '340'), ('this_is.jinstar', '329'), ('skawngur', '0'), ('jichu_o_', '93'), ('pilatesue_', '483'), ('hm_son7', '204'), ('valeyellow46', '455'), ('jm_good', '305'), ('18.yyin', '795'), ('parkjiminl', '159'), ('cherish_rim_____', '151'), ('yeenstyle_', '466'), ('_yujin_an', '16'), ('fabioquartararo20', '449'), ('__gynx', '280'), ('zzna', '427'), ('9_heon', '91'), ('cherry_min10', '1,293'), ('sun0reum', '166'), ('yogini_su_12', '672'), ('tiebanonini', '77'), ('sangxon_', '170'), ('xorm99830', '101'), ('jennierubyjane', '0'), ('simgaram', '138'), ('gte._.e', '128'), ('__phytoncide', '1'), ('youuu__22', '161'), ('ji._.ry05', '333'), ('gpdnjs__k', '195'), ('ganghaeri.83', '206'), ('95o93o', '569'), ('_dudi_.di', '235'), ('miia_angel_', '359'), ('twitteringtree', '191'), ('dding_junn', '68'), ('l_im_seably', '123'), ('99_luv_mint', '143'), ('yaco.__.99', '601'), ('seun9_99', '245'), ('ye._.vely618', '9'), ('bambi_0428', '1,078'), ('j_chaeyeoni', '150'), ('iseungeun9399', '184'), ('momo', '0'), ('yoona__lim', '8'), ('jeongrak00', '201'), ('i_am_yaggoong', '573'), ('nega_minsu', '252'), ('eunbining0904', '0'), ('eunvio_0let', '639'), ('rap._.ark', '224'), ('sooyoungchoi', '21'), ('jinvely_gram', '742'), ('yongdae_kwon99', '113'), ('iamsezero', '156'), ('marcmarquez93', '295'), ('jiyuu_jiyuu', '262'), ('a_suvin45', '130'), ('jongh55_', '119'), ('dao.ino', '257'), ('26_danipedrosa', '214'), ('y0__ung', '199'), ('xiaorouseeu.official', '951'), ('23._.hoon', '401'), ('seojuhyun_s', '95'), ('llee_gyu', '117'), ('yuinniy', '301'), ('joo_nak_e_', '216'), ('yuhiro0o', '156'), ('somsomi0309', '13'), ('dahyeda.h', '398'), ('moodforsunday', '280'), ('_big_j_won', '114'), ('orinnnnse', '196'), ('so_love_so_', '512'), ('yetorixx', '455'), ('vr46ridersacademyofficial', '46'), ('yegi_s2_', '212'), ('sssomj', '408'), ('_mlnhee', '406'), ('daily_su.a', '455'), ('89jorgemartin', '992'), ('gayooii', '284'), ('174__23', '381'), ('jiddly_1', '38'), ('hyo._.kong', '355'), ('jw_5779', '280'), ('jeon_hoang_lim', '395'), ('s_oo0gh', '580'), ('__creamcheeze', '388'), ('pl_kms', '94'), ('el.f_in', '326'), ('wooju1025', '287'), ('xeesoxee', '0'), ('dahye__flos', '637'), ('eunjomii2', '437'), ('23._.insta', '192'), ('cowrock_', '312'), ('faaaairestyle', '25'), ('__yeon__49', '515'), ('ddoni__p', '454'), ('chann__hy', '238'), ('hachi_08', '112'))\n"
     ]
    }
   ],
   "source": [
    "step2(level0)"
   ]
  },
  {
   "cell_type": "code",
   "execution_count": 24,
   "id": "36ab2e15",
   "metadata": {
    "ExecuteTime": {
     "end_time": "2022-09-05T09:39:57.606370Z",
     "start_time": "2022-09-05T09:39:57.576456Z"
    }
   },
   "outputs": [],
   "source": [
    "driver.switch_to.window(driver.window_handles[0])"
   ]
  },
  {
   "cell_type": "code",
   "execution_count": null,
   "id": "006bcdc9",
   "metadata": {
    "ExecuteTime": {
     "end_time": "2022-09-05T09:36:16.430258Z",
     "start_time": "2022-09-05T09:36:16.430258Z"
    }
   },
   "outputs": [],
   "source": [
    "abc = [('xu_wenwu_99', '7'), ('a_suvin45', '130'), ('jongh55_', '119'), ('h_jin309', '237'), ('jhyeon__1119', '88'), ('llee_gyu', '117'), ('9_heon', '91'), ('nahcnow', '142'), ('soonswan13', '187'), ('an_sangun0_0', '156'), ('pl_kms', '94'), ('ring_the_bell_jewa', '201'), ('belgisam', '189'), ('yongdae_kwon99', '113'), ('gayooii', '284'), ('dding_junn', '68'), ('y0__ung', '199'), ('sil._.9v', '336'), ('su._.jin0607', '522'), ('twitteringtree', '191'), ('23._.insta', '192'), ('_big_j_won', '114'), ('kim_dh0106', '116'), ('jeongrak00', '201'), ('cowrock_', '312'), ('seun9_99', '245'), ('chann__hy', '238'), ('jm_good', '305'), ('rap._.ark', '224'), ('joo_nak_e_', '216'), ('nega_minsu', '252'), ('xorm99830', '101'), ('jw_5779', '280'), ('parkjiminl', '159'), ('sughyen', '340'), ('jeonghwan0703', '55')]\n",
    "print(tuple(set(tuple(abc))))"
   ]
  },
  {
   "cell_type": "code",
   "execution_count": null,
   "id": "562ca385",
   "metadata": {},
   "outputs": [],
   "source": []
  }
 ],
 "metadata": {
  "kernelspec": {
   "display_name": "Python 3 (ipykernel)",
   "language": "python",
   "name": "python3"
  },
  "language_info": {
   "codemirror_mode": {
    "name": "ipython",
    "version": 3
   },
   "file_extension": ".py",
   "mimetype": "text/x-python",
   "name": "python",
   "nbconvert_exporter": "python",
   "pygments_lexer": "ipython3",
   "version": "3.9.12"
  },
  "varInspector": {
   "cols": {
    "lenName": 16,
    "lenType": 16,
    "lenVar": 40
   },
   "kernels_config": {
    "python": {
     "delete_cmd_postfix": "",
     "delete_cmd_prefix": "del ",
     "library": "var_list.py",
     "varRefreshCmd": "print(var_dic_list())"
    },
    "r": {
     "delete_cmd_postfix": ") ",
     "delete_cmd_prefix": "rm(",
     "library": "var_list.r",
     "varRefreshCmd": "cat(var_dic_list()) "
    }
   },
   "types_to_exclude": [
    "module",
    "function",
    "builtin_function_or_method",
    "instance",
    "_Feature"
   ],
   "window_display": false
  }
 },
 "nbformat": 4,
 "nbformat_minor": 5
}
