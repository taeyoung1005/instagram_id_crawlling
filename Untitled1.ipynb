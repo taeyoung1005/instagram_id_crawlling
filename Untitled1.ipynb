{
 "cells": [
  {
   "cell_type": "code",
   "execution_count": 12,
   "id": "aa7e1d4c",
   "metadata": {
    "ExecuteTime": {
     "end_time": "2022-09-05T10:46:44.818660Z",
     "start_time": "2022-09-05T10:46:44.807677Z"
    }
   },
   "outputs": [],
   "source": [
    "from selenium import webdriver\n",
    "from selenium.webdriver.common.by import By\n",
    "from selenium.webdriver.common.keys import Keys\n",
    "from time import sleep\n",
    "import chromedriver_autoinstaller\n",
    "import random\n",
    "import os\n",
    "import sys"
   ]
  },
  {
   "cell_type": "code",
   "execution_count": 13,
   "id": "bf780ba5",
   "metadata": {
    "ExecuteTime": {
     "end_time": "2022-09-05T10:46:45.092739Z",
     "start_time": "2022-09-05T10:46:45.046485Z"
    }
   },
   "outputs": [],
   "source": [
    "chrome_ver = chromedriver_autoinstaller.get_chrome_version().split('.')[0]\n",
    "driver_path = f'./{chrome_ver}/chromedriver.exe'\n",
    "if os.path.exists(driver_path) != True:\n",
    "    print(\"크롬버전에 맞는 크롬드라이버 설치중...\")\n",
    "    chromedriver_autoinstaller.install(True)\n",
    "    print(\"크롬드라이버 설치완료\")"
   ]
  },
  {
   "cell_type": "code",
   "execution_count": 15,
   "id": "541273e3",
   "metadata": {
    "ExecuteTime": {
     "end_time": "2022-09-05T10:46:58.981307Z",
     "start_time": "2022-09-05T10:46:58.967344Z"
    }
   },
   "outputs": [],
   "source": [
    "chrome_options = webdriver.ChromeOptions()\n",
    "chrome_options.add_argument('--headless')\n",
    "chrome_options.add_argument('--no-sandbox')\n",
    "chrome_options.add_argument('--privileged')\n",
    "chrome_options.add_argument('--incognito')\n",
    "chrome_options.add_argument('--disable-dev-shm-usage')\n",
    "chrome_options.add_argument('window-size=1920x1080')\n",
    "chrome_options.add_argument('disable-gpu')\n",
    "chrome_options.add_argument(\"user-agent=Mozilla/5.0 (Windows NT 10.0; WOW64) AppleWebKit/537.36 (KHTML, like Gecko) Chrome/103.0.5060.134 Safari/537.36\")\n",
    "chrome_options.add_argument('lang=ko_KR')\n",
    "chrome_options.add_experimental_option(\"excludeSwitches\",[\"enable-logging\"])"
   ]
  },
  {
   "cell_type": "code",
   "execution_count": null,
   "id": "400a89c9",
   "metadata": {},
   "outputs": [],
   "source": [
    "driver = webdriver.Chrome(driver_path)"
   ]
  }
 ],
 "metadata": {
  "kernelspec": {
   "display_name": "Python 3 (ipykernel)",
   "language": "python",
   "name": "python3"
  },
  "language_info": {
   "codemirror_mode": {
    "name": "ipython",
    "version": 3
   },
   "file_extension": ".py",
   "mimetype": "text/x-python",
   "name": "python",
   "nbconvert_exporter": "python",
   "pygments_lexer": "ipython3",
   "version": "3.9.12"
  },
  "varInspector": {
   "cols": {
    "lenName": 16,
    "lenType": 16,
    "lenVar": 40
   },
   "kernels_config": {
    "python": {
     "delete_cmd_postfix": "",
     "delete_cmd_prefix": "del ",
     "library": "var_list.py",
     "varRefreshCmd": "print(var_dic_list())"
    },
    "r": {
     "delete_cmd_postfix": ") ",
     "delete_cmd_prefix": "rm(",
     "library": "var_list.r",
     "varRefreshCmd": "cat(var_dic_list()) "
    }
   },
   "types_to_exclude": [
    "module",
    "function",
    "builtin_function_or_method",
    "instance",
    "_Feature"
   ],
   "window_display": false
  }
 },
 "nbformat": 4,
 "nbformat_minor": 5
}
